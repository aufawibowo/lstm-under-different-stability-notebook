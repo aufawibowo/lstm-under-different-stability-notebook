{
  "nbformat": 4,
  "nbformat_minor": 0,
  "metadata": {
    "colab": {
      "name": "Notebook - Implementation of Stock Prediction Based on LSTM under Different Stability github.ipynb",
      "provenance": [],
      "collapsed_sections": [],
      "include_colab_link": true
    },
    "kernelspec": {
      "name": "python3",
      "display_name": "Python 3"
    },
    "accelerator": "TPU",
    "widgets": {
      "application/vnd.jupyter.widget-state+json": {
        "8ef9e4dca73d4389ae9be39cbdb18693": {
          "model_module": "@jupyter-widgets/controls",
          "model_name": "HBoxModel",
          "state": {
            "_view_name": "HBoxView",
            "_dom_classes": [],
            "_model_name": "HBoxModel",
            "_view_module": "@jupyter-widgets/controls",
            "_model_module_version": "1.5.0",
            "_view_count": null,
            "_view_module_version": "1.5.0",
            "box_style": "",
            "layout": "IPY_MODEL_ec14dd4925a64213b4653bc199e9c3b2",
            "_model_module": "@jupyter-widgets/controls",
            "children": [
              "IPY_MODEL_b418acd991e748e7995bd522841ebc0f",
              "IPY_MODEL_f464f12cfd8041eabfcdefd1735a4846"
            ]
          }
        },
        "ec14dd4925a64213b4653bc199e9c3b2": {
          "model_module": "@jupyter-widgets/base",
          "model_name": "LayoutModel",
          "state": {
            "_view_name": "LayoutView",
            "grid_template_rows": null,
            "right": null,
            "justify_content": null,
            "_view_module": "@jupyter-widgets/base",
            "overflow": null,
            "_model_module_version": "1.2.0",
            "_view_count": null,
            "flex_flow": null,
            "width": null,
            "min_width": null,
            "border": null,
            "align_items": null,
            "bottom": null,
            "_model_module": "@jupyter-widgets/base",
            "top": null,
            "grid_column": null,
            "overflow_y": null,
            "overflow_x": null,
            "grid_auto_flow": null,
            "grid_area": null,
            "grid_template_columns": null,
            "flex": null,
            "_model_name": "LayoutModel",
            "justify_items": null,
            "grid_row": null,
            "max_height": null,
            "align_content": null,
            "visibility": null,
            "align_self": null,
            "height": null,
            "min_height": null,
            "padding": null,
            "grid_auto_rows": null,
            "grid_gap": null,
            "max_width": null,
            "order": null,
            "_view_module_version": "1.2.0",
            "grid_template_areas": null,
            "object_position": null,
            "object_fit": null,
            "grid_auto_columns": null,
            "margin": null,
            "display": null,
            "left": null
          }
        },
        "b418acd991e748e7995bd522841ebc0f": {
          "model_module": "@jupyter-widgets/controls",
          "model_name": "FloatProgressModel",
          "state": {
            "_view_name": "ProgressView",
            "style": "IPY_MODEL_70c7d6c74bb34116b5ff6a256387b845",
            "_dom_classes": [],
            "description": "Main Lane: 100%",
            "_model_name": "FloatProgressModel",
            "bar_style": "success",
            "max": 5,
            "_view_module": "@jupyter-widgets/controls",
            "_model_module_version": "1.5.0",
            "value": 5,
            "_view_count": null,
            "_view_module_version": "1.5.0",
            "orientation": "horizontal",
            "min": 0,
            "description_tooltip": null,
            "_model_module": "@jupyter-widgets/controls",
            "layout": "IPY_MODEL_a0ea6456ca44462baae5ac1e2258b519"
          }
        },
        "f464f12cfd8041eabfcdefd1735a4846": {
          "model_module": "@jupyter-widgets/controls",
          "model_name": "HTMLModel",
          "state": {
            "_view_name": "HTMLView",
            "style": "IPY_MODEL_a585abbfafeb45b8a149a37bb8b5090b",
            "_dom_classes": [],
            "description": "",
            "_model_name": "HTMLModel",
            "placeholder": "​",
            "_view_module": "@jupyter-widgets/controls",
            "_model_module_version": "1.5.0",
            "value": " 5/5 [26:56&lt;00:00, 323.22s/it]",
            "_view_count": null,
            "_view_module_version": "1.5.0",
            "description_tooltip": null,
            "_model_module": "@jupyter-widgets/controls",
            "layout": "IPY_MODEL_34cd755147924a1a8128c4de15df43c6"
          }
        },
        "70c7d6c74bb34116b5ff6a256387b845": {
          "model_module": "@jupyter-widgets/controls",
          "model_name": "ProgressStyleModel",
          "state": {
            "_view_name": "StyleView",
            "_model_name": "ProgressStyleModel",
            "description_width": "initial",
            "_view_module": "@jupyter-widgets/base",
            "_model_module_version": "1.5.0",
            "_view_count": null,
            "_view_module_version": "1.2.0",
            "bar_color": null,
            "_model_module": "@jupyter-widgets/controls"
          }
        },
        "a0ea6456ca44462baae5ac1e2258b519": {
          "model_module": "@jupyter-widgets/base",
          "model_name": "LayoutModel",
          "state": {
            "_view_name": "LayoutView",
            "grid_template_rows": null,
            "right": null,
            "justify_content": null,
            "_view_module": "@jupyter-widgets/base",
            "overflow": null,
            "_model_module_version": "1.2.0",
            "_view_count": null,
            "flex_flow": null,
            "width": null,
            "min_width": null,
            "border": null,
            "align_items": null,
            "bottom": null,
            "_model_module": "@jupyter-widgets/base",
            "top": null,
            "grid_column": null,
            "overflow_y": null,
            "overflow_x": null,
            "grid_auto_flow": null,
            "grid_area": null,
            "grid_template_columns": null,
            "flex": null,
            "_model_name": "LayoutModel",
            "justify_items": null,
            "grid_row": null,
            "max_height": null,
            "align_content": null,
            "visibility": null,
            "align_self": null,
            "height": null,
            "min_height": null,
            "padding": null,
            "grid_auto_rows": null,
            "grid_gap": null,
            "max_width": null,
            "order": null,
            "_view_module_version": "1.2.0",
            "grid_template_areas": null,
            "object_position": null,
            "object_fit": null,
            "grid_auto_columns": null,
            "margin": null,
            "display": null,
            "left": null
          }
        },
        "a585abbfafeb45b8a149a37bb8b5090b": {
          "model_module": "@jupyter-widgets/controls",
          "model_name": "DescriptionStyleModel",
          "state": {
            "_view_name": "StyleView",
            "_model_name": "DescriptionStyleModel",
            "description_width": "",
            "_view_module": "@jupyter-widgets/base",
            "_model_module_version": "1.5.0",
            "_view_count": null,
            "_view_module_version": "1.2.0",
            "_model_module": "@jupyter-widgets/controls"
          }
        },
        "34cd755147924a1a8128c4de15df43c6": {
          "model_module": "@jupyter-widgets/base",
          "model_name": "LayoutModel",
          "state": {
            "_view_name": "LayoutView",
            "grid_template_rows": null,
            "right": null,
            "justify_content": null,
            "_view_module": "@jupyter-widgets/base",
            "overflow": null,
            "_model_module_version": "1.2.0",
            "_view_count": null,
            "flex_flow": null,
            "width": null,
            "min_width": null,
            "border": null,
            "align_items": null,
            "bottom": null,
            "_model_module": "@jupyter-widgets/base",
            "top": null,
            "grid_column": null,
            "overflow_y": null,
            "overflow_x": null,
            "grid_auto_flow": null,
            "grid_area": null,
            "grid_template_columns": null,
            "flex": null,
            "_model_name": "LayoutModel",
            "justify_items": null,
            "grid_row": null,
            "max_height": null,
            "align_content": null,
            "visibility": null,
            "align_self": null,
            "height": null,
            "min_height": null,
            "padding": null,
            "grid_auto_rows": null,
            "grid_gap": null,
            "max_width": null,
            "order": null,
            "_view_module_version": "1.2.0",
            "grid_template_areas": null,
            "object_position": null,
            "object_fit": null,
            "grid_auto_columns": null,
            "margin": null,
            "display": null,
            "left": null
          }
        },
        "8581534d2fa94ebfa5178e1368d82538": {
          "model_module": "@jupyter-widgets/controls",
          "model_name": "HBoxModel",
          "state": {
            "_view_name": "HBoxView",
            "_dom_classes": [],
            "_model_name": "HBoxModel",
            "_view_module": "@jupyter-widgets/controls",
            "_model_module_version": "1.5.0",
            "_view_count": null,
            "_view_module_version": "1.5.0",
            "box_style": "",
            "layout": "IPY_MODEL_ea8d46a9fd4d462fa7d1c452d9f91aa8",
            "_model_module": "@jupyter-widgets/controls",
            "children": [
              "IPY_MODEL_a0799169cae04424a4521342bb2b2d68",
              "IPY_MODEL_894f8a03b4f14bdabf10986a8468ee49"
            ]
          }
        },
        "ea8d46a9fd4d462fa7d1c452d9f91aa8": {
          "model_module": "@jupyter-widgets/base",
          "model_name": "LayoutModel",
          "state": {
            "_view_name": "LayoutView",
            "grid_template_rows": null,
            "right": null,
            "justify_content": null,
            "_view_module": "@jupyter-widgets/base",
            "overflow": null,
            "_model_module_version": "1.2.0",
            "_view_count": null,
            "flex_flow": null,
            "width": null,
            "min_width": null,
            "border": null,
            "align_items": null,
            "bottom": null,
            "_model_module": "@jupyter-widgets/base",
            "top": null,
            "grid_column": null,
            "overflow_y": null,
            "overflow_x": null,
            "grid_auto_flow": null,
            "grid_area": null,
            "grid_template_columns": null,
            "flex": null,
            "_model_name": "LayoutModel",
            "justify_items": null,
            "grid_row": null,
            "max_height": null,
            "align_content": null,
            "visibility": null,
            "align_self": null,
            "height": null,
            "min_height": null,
            "padding": null,
            "grid_auto_rows": null,
            "grid_gap": null,
            "max_width": null,
            "order": null,
            "_view_module_version": "1.2.0",
            "grid_template_areas": null,
            "object_position": null,
            "object_fit": null,
            "grid_auto_columns": null,
            "margin": null,
            "display": null,
            "left": null
          }
        },
        "a0799169cae04424a4521342bb2b2d68": {
          "model_module": "@jupyter-widgets/controls",
          "model_name": "FloatProgressModel",
          "state": {
            "_view_name": "ProgressView",
            "style": "IPY_MODEL_d2c0cdd003cd40b2bff31517247a52b4",
            "_dom_classes": [],
            "description": "Fit LSTM: 100%",
            "_model_name": "FloatProgressModel",
            "bar_style": "success",
            "max": 1000,
            "_view_module": "@jupyter-widgets/controls",
            "_model_module_version": "1.5.0",
            "value": 1000,
            "_view_count": null,
            "_view_module_version": "1.5.0",
            "orientation": "horizontal",
            "min": 0,
            "description_tooltip": null,
            "_model_module": "@jupyter-widgets/controls",
            "layout": "IPY_MODEL_d75d30d6e3cf440a84fbf1aeaf9df5d9"
          }
        },
        "894f8a03b4f14bdabf10986a8468ee49": {
          "model_module": "@jupyter-widgets/controls",
          "model_name": "HTMLModel",
          "state": {
            "_view_name": "HTMLView",
            "style": "IPY_MODEL_31fc868d041e41d2ba2c2554430ac283",
            "_dom_classes": [],
            "description": "",
            "_model_name": "HTMLModel",
            "placeholder": "​",
            "_view_module": "@jupyter-widgets/controls",
            "_model_module_version": "1.5.0",
            "value": " 1000/1000 [10:56&lt;00:00,  1.52it/s]",
            "_view_count": null,
            "_view_module_version": "1.5.0",
            "description_tooltip": null,
            "_model_module": "@jupyter-widgets/controls",
            "layout": "IPY_MODEL_ce2b979859354f9aac96f1654f81fab7"
          }
        },
        "d2c0cdd003cd40b2bff31517247a52b4": {
          "model_module": "@jupyter-widgets/controls",
          "model_name": "ProgressStyleModel",
          "state": {
            "_view_name": "StyleView",
            "_model_name": "ProgressStyleModel",
            "description_width": "initial",
            "_view_module": "@jupyter-widgets/base",
            "_model_module_version": "1.5.0",
            "_view_count": null,
            "_view_module_version": "1.2.0",
            "bar_color": null,
            "_model_module": "@jupyter-widgets/controls"
          }
        },
        "d75d30d6e3cf440a84fbf1aeaf9df5d9": {
          "model_module": "@jupyter-widgets/base",
          "model_name": "LayoutModel",
          "state": {
            "_view_name": "LayoutView",
            "grid_template_rows": null,
            "right": null,
            "justify_content": null,
            "_view_module": "@jupyter-widgets/base",
            "overflow": null,
            "_model_module_version": "1.2.0",
            "_view_count": null,
            "flex_flow": null,
            "width": null,
            "min_width": null,
            "border": null,
            "align_items": null,
            "bottom": null,
            "_model_module": "@jupyter-widgets/base",
            "top": null,
            "grid_column": null,
            "overflow_y": null,
            "overflow_x": null,
            "grid_auto_flow": null,
            "grid_area": null,
            "grid_template_columns": null,
            "flex": null,
            "_model_name": "LayoutModel",
            "justify_items": null,
            "grid_row": null,
            "max_height": null,
            "align_content": null,
            "visibility": null,
            "align_self": null,
            "height": null,
            "min_height": null,
            "padding": null,
            "grid_auto_rows": null,
            "grid_gap": null,
            "max_width": null,
            "order": null,
            "_view_module_version": "1.2.0",
            "grid_template_areas": null,
            "object_position": null,
            "object_fit": null,
            "grid_auto_columns": null,
            "margin": null,
            "display": null,
            "left": null
          }
        },
        "31fc868d041e41d2ba2c2554430ac283": {
          "model_module": "@jupyter-widgets/controls",
          "model_name": "DescriptionStyleModel",
          "state": {
            "_view_name": "StyleView",
            "_model_name": "DescriptionStyleModel",
            "description_width": "",
            "_view_module": "@jupyter-widgets/base",
            "_model_module_version": "1.5.0",
            "_view_count": null,
            "_view_module_version": "1.2.0",
            "_model_module": "@jupyter-widgets/controls"
          }
        },
        "ce2b979859354f9aac96f1654f81fab7": {
          "model_module": "@jupyter-widgets/base",
          "model_name": "LayoutModel",
          "state": {
            "_view_name": "LayoutView",
            "grid_template_rows": null,
            "right": null,
            "justify_content": null,
            "_view_module": "@jupyter-widgets/base",
            "overflow": null,
            "_model_module_version": "1.2.0",
            "_view_count": null,
            "flex_flow": null,
            "width": null,
            "min_width": null,
            "border": null,
            "align_items": null,
            "bottom": null,
            "_model_module": "@jupyter-widgets/base",
            "top": null,
            "grid_column": null,
            "overflow_y": null,
            "overflow_x": null,
            "grid_auto_flow": null,
            "grid_area": null,
            "grid_template_columns": null,
            "flex": null,
            "_model_name": "LayoutModel",
            "justify_items": null,
            "grid_row": null,
            "max_height": null,
            "align_content": null,
            "visibility": null,
            "align_self": null,
            "height": null,
            "min_height": null,
            "padding": null,
            "grid_auto_rows": null,
            "grid_gap": null,
            "max_width": null,
            "order": null,
            "_view_module_version": "1.2.0",
            "grid_template_areas": null,
            "object_position": null,
            "object_fit": null,
            "grid_auto_columns": null,
            "margin": null,
            "display": null,
            "left": null
          }
        },
        "91f17182a66d4c098ff2917b58d8f2b7": {
          "model_module": "@jupyter-widgets/controls",
          "model_name": "HBoxModel",
          "state": {
            "_view_name": "HBoxView",
            "_dom_classes": [],
            "_model_name": "HBoxModel",
            "_view_module": "@jupyter-widgets/controls",
            "_model_module_version": "1.5.0",
            "_view_count": null,
            "_view_module_version": "1.5.0",
            "box_style": "",
            "layout": "IPY_MODEL_dc347efc0d7e41e29f89e2bf422950b2",
            "_model_module": "@jupyter-widgets/controls",
            "children": [
              "IPY_MODEL_df9d39519ed743ca845aa2dc5842b99e",
              "IPY_MODEL_e77bd81e296e4eaea1e7b6863a99f996"
            ]
          }
        },
        "dc347efc0d7e41e29f89e2bf422950b2": {
          "model_module": "@jupyter-widgets/base",
          "model_name": "LayoutModel",
          "state": {
            "_view_name": "LayoutView",
            "grid_template_rows": null,
            "right": null,
            "justify_content": null,
            "_view_module": "@jupyter-widgets/base",
            "overflow": null,
            "_model_module_version": "1.2.0",
            "_view_count": null,
            "flex_flow": null,
            "width": null,
            "min_width": null,
            "border": null,
            "align_items": null,
            "bottom": null,
            "_model_module": "@jupyter-widgets/base",
            "top": null,
            "grid_column": null,
            "overflow_y": null,
            "overflow_x": null,
            "grid_auto_flow": null,
            "grid_area": null,
            "grid_template_columns": null,
            "flex": null,
            "_model_name": "LayoutModel",
            "justify_items": null,
            "grid_row": null,
            "max_height": null,
            "align_content": null,
            "visibility": null,
            "align_self": null,
            "height": null,
            "min_height": null,
            "padding": null,
            "grid_auto_rows": null,
            "grid_gap": null,
            "max_width": null,
            "order": null,
            "_view_module_version": "1.2.0",
            "grid_template_areas": null,
            "object_position": null,
            "object_fit": null,
            "grid_auto_columns": null,
            "margin": null,
            "display": null,
            "left": null
          }
        },
        "df9d39519ed743ca845aa2dc5842b99e": {
          "model_module": "@jupyter-widgets/controls",
          "model_name": "FloatProgressModel",
          "state": {
            "_view_name": "ProgressView",
            "style": "IPY_MODEL_87c9520956b84b36ad59f0151f40d8ae",
            "_dom_classes": [],
            "description": "Fit LSTM: 100%",
            "_model_name": "FloatProgressModel",
            "bar_style": "success",
            "max": 1000,
            "_view_module": "@jupyter-widgets/controls",
            "_model_module_version": "1.5.0",
            "value": 1000,
            "_view_count": null,
            "_view_module_version": "1.5.0",
            "orientation": "horizontal",
            "min": 0,
            "description_tooltip": null,
            "_model_module": "@jupyter-widgets/controls",
            "layout": "IPY_MODEL_d19d96805ae14fb0896ec846aa67c077"
          }
        },
        "e77bd81e296e4eaea1e7b6863a99f996": {
          "model_module": "@jupyter-widgets/controls",
          "model_name": "HTMLModel",
          "state": {
            "_view_name": "HTMLView",
            "style": "IPY_MODEL_fd3f2a7894f04c87b5fca0ae06e5eb51",
            "_dom_classes": [],
            "description": "",
            "_model_name": "HTMLModel",
            "placeholder": "​",
            "_view_module": "@jupyter-widgets/controls",
            "_model_module_version": "1.5.0",
            "value": " 1000/1000 [05:28&lt;00:00,  3.05it/s]",
            "_view_count": null,
            "_view_module_version": "1.5.0",
            "description_tooltip": null,
            "_model_module": "@jupyter-widgets/controls",
            "layout": "IPY_MODEL_f91a9a8ac6724ae3a3b5a657a505d88d"
          }
        },
        "87c9520956b84b36ad59f0151f40d8ae": {
          "model_module": "@jupyter-widgets/controls",
          "model_name": "ProgressStyleModel",
          "state": {
            "_view_name": "StyleView",
            "_model_name": "ProgressStyleModel",
            "description_width": "initial",
            "_view_module": "@jupyter-widgets/base",
            "_model_module_version": "1.5.0",
            "_view_count": null,
            "_view_module_version": "1.2.0",
            "bar_color": null,
            "_model_module": "@jupyter-widgets/controls"
          }
        },
        "d19d96805ae14fb0896ec846aa67c077": {
          "model_module": "@jupyter-widgets/base",
          "model_name": "LayoutModel",
          "state": {
            "_view_name": "LayoutView",
            "grid_template_rows": null,
            "right": null,
            "justify_content": null,
            "_view_module": "@jupyter-widgets/base",
            "overflow": null,
            "_model_module_version": "1.2.0",
            "_view_count": null,
            "flex_flow": null,
            "width": null,
            "min_width": null,
            "border": null,
            "align_items": null,
            "bottom": null,
            "_model_module": "@jupyter-widgets/base",
            "top": null,
            "grid_column": null,
            "overflow_y": null,
            "overflow_x": null,
            "grid_auto_flow": null,
            "grid_area": null,
            "grid_template_columns": null,
            "flex": null,
            "_model_name": "LayoutModel",
            "justify_items": null,
            "grid_row": null,
            "max_height": null,
            "align_content": null,
            "visibility": null,
            "align_self": null,
            "height": null,
            "min_height": null,
            "padding": null,
            "grid_auto_rows": null,
            "grid_gap": null,
            "max_width": null,
            "order": null,
            "_view_module_version": "1.2.0",
            "grid_template_areas": null,
            "object_position": null,
            "object_fit": null,
            "grid_auto_columns": null,
            "margin": null,
            "display": null,
            "left": null
          }
        },
        "fd3f2a7894f04c87b5fca0ae06e5eb51": {
          "model_module": "@jupyter-widgets/controls",
          "model_name": "DescriptionStyleModel",
          "state": {
            "_view_name": "StyleView",
            "_model_name": "DescriptionStyleModel",
            "description_width": "",
            "_view_module": "@jupyter-widgets/base",
            "_model_module_version": "1.5.0",
            "_view_count": null,
            "_view_module_version": "1.2.0",
            "_model_module": "@jupyter-widgets/controls"
          }
        },
        "f91a9a8ac6724ae3a3b5a657a505d88d": {
          "model_module": "@jupyter-widgets/base",
          "model_name": "LayoutModel",
          "state": {
            "_view_name": "LayoutView",
            "grid_template_rows": null,
            "right": null,
            "justify_content": null,
            "_view_module": "@jupyter-widgets/base",
            "overflow": null,
            "_model_module_version": "1.2.0",
            "_view_count": null,
            "flex_flow": null,
            "width": null,
            "min_width": null,
            "border": null,
            "align_items": null,
            "bottom": null,
            "_model_module": "@jupyter-widgets/base",
            "top": null,
            "grid_column": null,
            "overflow_y": null,
            "overflow_x": null,
            "grid_auto_flow": null,
            "grid_area": null,
            "grid_template_columns": null,
            "flex": null,
            "_model_name": "LayoutModel",
            "justify_items": null,
            "grid_row": null,
            "max_height": null,
            "align_content": null,
            "visibility": null,
            "align_self": null,
            "height": null,
            "min_height": null,
            "padding": null,
            "grid_auto_rows": null,
            "grid_gap": null,
            "max_width": null,
            "order": null,
            "_view_module_version": "1.2.0",
            "grid_template_areas": null,
            "object_position": null,
            "object_fit": null,
            "grid_auto_columns": null,
            "margin": null,
            "display": null,
            "left": null
          }
        },
        "e34caf2804194ea98aad4194d2ffbd72": {
          "model_module": "@jupyter-widgets/controls",
          "model_name": "HBoxModel",
          "state": {
            "_view_name": "HBoxView",
            "_dom_classes": [],
            "_model_name": "HBoxModel",
            "_view_module": "@jupyter-widgets/controls",
            "_model_module_version": "1.5.0",
            "_view_count": null,
            "_view_module_version": "1.5.0",
            "box_style": "",
            "layout": "IPY_MODEL_6cb320d926014ff79c5bdf662e4c8472",
            "_model_module": "@jupyter-widgets/controls",
            "children": [
              "IPY_MODEL_a9a5d02b1eeb45b6b7d8368eee4a1919",
              "IPY_MODEL_c3643b8bb412442dafa835b1012221ca"
            ]
          }
        },
        "6cb320d926014ff79c5bdf662e4c8472": {
          "model_module": "@jupyter-widgets/base",
          "model_name": "LayoutModel",
          "state": {
            "_view_name": "LayoutView",
            "grid_template_rows": null,
            "right": null,
            "justify_content": null,
            "_view_module": "@jupyter-widgets/base",
            "overflow": null,
            "_model_module_version": "1.2.0",
            "_view_count": null,
            "flex_flow": null,
            "width": null,
            "min_width": null,
            "border": null,
            "align_items": null,
            "bottom": null,
            "_model_module": "@jupyter-widgets/base",
            "top": null,
            "grid_column": null,
            "overflow_y": null,
            "overflow_x": null,
            "grid_auto_flow": null,
            "grid_area": null,
            "grid_template_columns": null,
            "flex": null,
            "_model_name": "LayoutModel",
            "justify_items": null,
            "grid_row": null,
            "max_height": null,
            "align_content": null,
            "visibility": null,
            "align_self": null,
            "height": null,
            "min_height": null,
            "padding": null,
            "grid_auto_rows": null,
            "grid_gap": null,
            "max_width": null,
            "order": null,
            "_view_module_version": "1.2.0",
            "grid_template_areas": null,
            "object_position": null,
            "object_fit": null,
            "grid_auto_columns": null,
            "margin": null,
            "display": null,
            "left": null
          }
        },
        "a9a5d02b1eeb45b6b7d8368eee4a1919": {
          "model_module": "@jupyter-widgets/controls",
          "model_name": "FloatProgressModel",
          "state": {
            "_view_name": "ProgressView",
            "style": "IPY_MODEL_5df065907b204b748fd1cd7230b7481b",
            "_dom_classes": [],
            "description": "Fit LSTM: 100%",
            "_model_name": "FloatProgressModel",
            "bar_style": "success",
            "max": 1000,
            "_view_module": "@jupyter-widgets/controls",
            "_model_module_version": "1.5.0",
            "value": 1000,
            "_view_count": null,
            "_view_module_version": "1.5.0",
            "orientation": "horizontal",
            "min": 0,
            "description_tooltip": null,
            "_model_module": "@jupyter-widgets/controls",
            "layout": "IPY_MODEL_ef17fa0596164da0baa377c164164854"
          }
        },
        "c3643b8bb412442dafa835b1012221ca": {
          "model_module": "@jupyter-widgets/controls",
          "model_name": "HTMLModel",
          "state": {
            "_view_name": "HTMLView",
            "style": "IPY_MODEL_53ca86efd1ec43eabeecc39e9d9b16c8",
            "_dom_classes": [],
            "description": "",
            "_model_name": "HTMLModel",
            "placeholder": "​",
            "_view_module": "@jupyter-widgets/controls",
            "_model_module_version": "1.5.0",
            "value": " 1000/1000 [05:21&lt;00:00,  3.11it/s]",
            "_view_count": null,
            "_view_module_version": "1.5.0",
            "description_tooltip": null,
            "_model_module": "@jupyter-widgets/controls",
            "layout": "IPY_MODEL_8cd15c53e5704ebab0bafd0ae9b8b363"
          }
        },
        "5df065907b204b748fd1cd7230b7481b": {
          "model_module": "@jupyter-widgets/controls",
          "model_name": "ProgressStyleModel",
          "state": {
            "_view_name": "StyleView",
            "_model_name": "ProgressStyleModel",
            "description_width": "initial",
            "_view_module": "@jupyter-widgets/base",
            "_model_module_version": "1.5.0",
            "_view_count": null,
            "_view_module_version": "1.2.0",
            "bar_color": null,
            "_model_module": "@jupyter-widgets/controls"
          }
        },
        "ef17fa0596164da0baa377c164164854": {
          "model_module": "@jupyter-widgets/base",
          "model_name": "LayoutModel",
          "state": {
            "_view_name": "LayoutView",
            "grid_template_rows": null,
            "right": null,
            "justify_content": null,
            "_view_module": "@jupyter-widgets/base",
            "overflow": null,
            "_model_module_version": "1.2.0",
            "_view_count": null,
            "flex_flow": null,
            "width": null,
            "min_width": null,
            "border": null,
            "align_items": null,
            "bottom": null,
            "_model_module": "@jupyter-widgets/base",
            "top": null,
            "grid_column": null,
            "overflow_y": null,
            "overflow_x": null,
            "grid_auto_flow": null,
            "grid_area": null,
            "grid_template_columns": null,
            "flex": null,
            "_model_name": "LayoutModel",
            "justify_items": null,
            "grid_row": null,
            "max_height": null,
            "align_content": null,
            "visibility": null,
            "align_self": null,
            "height": null,
            "min_height": null,
            "padding": null,
            "grid_auto_rows": null,
            "grid_gap": null,
            "max_width": null,
            "order": null,
            "_view_module_version": "1.2.0",
            "grid_template_areas": null,
            "object_position": null,
            "object_fit": null,
            "grid_auto_columns": null,
            "margin": null,
            "display": null,
            "left": null
          }
        },
        "53ca86efd1ec43eabeecc39e9d9b16c8": {
          "model_module": "@jupyter-widgets/controls",
          "model_name": "DescriptionStyleModel",
          "state": {
            "_view_name": "StyleView",
            "_model_name": "DescriptionStyleModel",
            "description_width": "",
            "_view_module": "@jupyter-widgets/base",
            "_model_module_version": "1.5.0",
            "_view_count": null,
            "_view_module_version": "1.2.0",
            "_model_module": "@jupyter-widgets/controls"
          }
        },
        "8cd15c53e5704ebab0bafd0ae9b8b363": {
          "model_module": "@jupyter-widgets/base",
          "model_name": "LayoutModel",
          "state": {
            "_view_name": "LayoutView",
            "grid_template_rows": null,
            "right": null,
            "justify_content": null,
            "_view_module": "@jupyter-widgets/base",
            "overflow": null,
            "_model_module_version": "1.2.0",
            "_view_count": null,
            "flex_flow": null,
            "width": null,
            "min_width": null,
            "border": null,
            "align_items": null,
            "bottom": null,
            "_model_module": "@jupyter-widgets/base",
            "top": null,
            "grid_column": null,
            "overflow_y": null,
            "overflow_x": null,
            "grid_auto_flow": null,
            "grid_area": null,
            "grid_template_columns": null,
            "flex": null,
            "_model_name": "LayoutModel",
            "justify_items": null,
            "grid_row": null,
            "max_height": null,
            "align_content": null,
            "visibility": null,
            "align_self": null,
            "height": null,
            "min_height": null,
            "padding": null,
            "grid_auto_rows": null,
            "grid_gap": null,
            "max_width": null,
            "order": null,
            "_view_module_version": "1.2.0",
            "grid_template_areas": null,
            "object_position": null,
            "object_fit": null,
            "grid_auto_columns": null,
            "margin": null,
            "display": null,
            "left": null
          }
        },
        "9765f14defe740af906e86d110775124": {
          "model_module": "@jupyter-widgets/controls",
          "model_name": "HBoxModel",
          "state": {
            "_view_name": "HBoxView",
            "_dom_classes": [],
            "_model_name": "HBoxModel",
            "_view_module": "@jupyter-widgets/controls",
            "_model_module_version": "1.5.0",
            "_view_count": null,
            "_view_module_version": "1.5.0",
            "box_style": "",
            "layout": "IPY_MODEL_bebc4c000c284fb9b7f5d004089128ce",
            "_model_module": "@jupyter-widgets/controls",
            "children": [
              "IPY_MODEL_f0e29f489820406097720918da85df1c",
              "IPY_MODEL_b89a6e76aec74a5c97ad3406b553eb0f"
            ]
          }
        },
        "bebc4c000c284fb9b7f5d004089128ce": {
          "model_module": "@jupyter-widgets/base",
          "model_name": "LayoutModel",
          "state": {
            "_view_name": "LayoutView",
            "grid_template_rows": null,
            "right": null,
            "justify_content": null,
            "_view_module": "@jupyter-widgets/base",
            "overflow": null,
            "_model_module_version": "1.2.0",
            "_view_count": null,
            "flex_flow": null,
            "width": null,
            "min_width": null,
            "border": null,
            "align_items": null,
            "bottom": null,
            "_model_module": "@jupyter-widgets/base",
            "top": null,
            "grid_column": null,
            "overflow_y": null,
            "overflow_x": null,
            "grid_auto_flow": null,
            "grid_area": null,
            "grid_template_columns": null,
            "flex": null,
            "_model_name": "LayoutModel",
            "justify_items": null,
            "grid_row": null,
            "max_height": null,
            "align_content": null,
            "visibility": null,
            "align_self": null,
            "height": null,
            "min_height": null,
            "padding": null,
            "grid_auto_rows": null,
            "grid_gap": null,
            "max_width": null,
            "order": null,
            "_view_module_version": "1.2.0",
            "grid_template_areas": null,
            "object_position": null,
            "object_fit": null,
            "grid_auto_columns": null,
            "margin": null,
            "display": null,
            "left": null
          }
        },
        "f0e29f489820406097720918da85df1c": {
          "model_module": "@jupyter-widgets/controls",
          "model_name": "FloatProgressModel",
          "state": {
            "_view_name": "ProgressView",
            "style": "IPY_MODEL_fcef45587ed44ce5af56babf1e1409c5",
            "_dom_classes": [],
            "description": "Fit LSTM: 100%",
            "_model_name": "FloatProgressModel",
            "bar_style": "success",
            "max": 1000,
            "_view_module": "@jupyter-widgets/controls",
            "_model_module_version": "1.5.0",
            "value": 1000,
            "_view_count": null,
            "_view_module_version": "1.5.0",
            "orientation": "horizontal",
            "min": 0,
            "description_tooltip": null,
            "_model_module": "@jupyter-widgets/controls",
            "layout": "IPY_MODEL_bfd0b64713b447c49b0f70d411919e48"
          }
        },
        "b89a6e76aec74a5c97ad3406b553eb0f": {
          "model_module": "@jupyter-widgets/controls",
          "model_name": "HTMLModel",
          "state": {
            "_view_name": "HTMLView",
            "style": "IPY_MODEL_be14ae5ff0814aac86717ef218522bc5",
            "_dom_classes": [],
            "description": "",
            "_model_name": "HTMLModel",
            "placeholder": "​",
            "_view_module": "@jupyter-widgets/controls",
            "_model_module_version": "1.5.0",
            "value": " 1000/1000 [05:19&lt;00:00,  3.13it/s]",
            "_view_count": null,
            "_view_module_version": "1.5.0",
            "description_tooltip": null,
            "_model_module": "@jupyter-widgets/controls",
            "layout": "IPY_MODEL_c2c684377a574f21a5e73b22bc55f78d"
          }
        },
        "fcef45587ed44ce5af56babf1e1409c5": {
          "model_module": "@jupyter-widgets/controls",
          "model_name": "ProgressStyleModel",
          "state": {
            "_view_name": "StyleView",
            "_model_name": "ProgressStyleModel",
            "description_width": "initial",
            "_view_module": "@jupyter-widgets/base",
            "_model_module_version": "1.5.0",
            "_view_count": null,
            "_view_module_version": "1.2.0",
            "bar_color": null,
            "_model_module": "@jupyter-widgets/controls"
          }
        },
        "bfd0b64713b447c49b0f70d411919e48": {
          "model_module": "@jupyter-widgets/base",
          "model_name": "LayoutModel",
          "state": {
            "_view_name": "LayoutView",
            "grid_template_rows": null,
            "right": null,
            "justify_content": null,
            "_view_module": "@jupyter-widgets/base",
            "overflow": null,
            "_model_module_version": "1.2.0",
            "_view_count": null,
            "flex_flow": null,
            "width": null,
            "min_width": null,
            "border": null,
            "align_items": null,
            "bottom": null,
            "_model_module": "@jupyter-widgets/base",
            "top": null,
            "grid_column": null,
            "overflow_y": null,
            "overflow_x": null,
            "grid_auto_flow": null,
            "grid_area": null,
            "grid_template_columns": null,
            "flex": null,
            "_model_name": "LayoutModel",
            "justify_items": null,
            "grid_row": null,
            "max_height": null,
            "align_content": null,
            "visibility": null,
            "align_self": null,
            "height": null,
            "min_height": null,
            "padding": null,
            "grid_auto_rows": null,
            "grid_gap": null,
            "max_width": null,
            "order": null,
            "_view_module_version": "1.2.0",
            "grid_template_areas": null,
            "object_position": null,
            "object_fit": null,
            "grid_auto_columns": null,
            "margin": null,
            "display": null,
            "left": null
          }
        },
        "be14ae5ff0814aac86717ef218522bc5": {
          "model_module": "@jupyter-widgets/controls",
          "model_name": "DescriptionStyleModel",
          "state": {
            "_view_name": "StyleView",
            "_model_name": "DescriptionStyleModel",
            "description_width": "",
            "_view_module": "@jupyter-widgets/base",
            "_model_module_version": "1.5.0",
            "_view_count": null,
            "_view_module_version": "1.2.0",
            "_model_module": "@jupyter-widgets/controls"
          }
        },
        "c2c684377a574f21a5e73b22bc55f78d": {
          "model_module": "@jupyter-widgets/base",
          "model_name": "LayoutModel",
          "state": {
            "_view_name": "LayoutView",
            "grid_template_rows": null,
            "right": null,
            "justify_content": null,
            "_view_module": "@jupyter-widgets/base",
            "overflow": null,
            "_model_module_version": "1.2.0",
            "_view_count": null,
            "flex_flow": null,
            "width": null,
            "min_width": null,
            "border": null,
            "align_items": null,
            "bottom": null,
            "_model_module": "@jupyter-widgets/base",
            "top": null,
            "grid_column": null,
            "overflow_y": null,
            "overflow_x": null,
            "grid_auto_flow": null,
            "grid_area": null,
            "grid_template_columns": null,
            "flex": null,
            "_model_name": "LayoutModel",
            "justify_items": null,
            "grid_row": null,
            "max_height": null,
            "align_content": null,
            "visibility": null,
            "align_self": null,
            "height": null,
            "min_height": null,
            "padding": null,
            "grid_auto_rows": null,
            "grid_gap": null,
            "max_width": null,
            "order": null,
            "_view_module_version": "1.2.0",
            "grid_template_areas": null,
            "object_position": null,
            "object_fit": null,
            "grid_auto_columns": null,
            "margin": null,
            "display": null,
            "left": null
          }
        },
        "268a637bb7c84a57bf2b3b0e71ff8f02": {
          "model_module": "@jupyter-widgets/controls",
          "model_name": "HBoxModel",
          "state": {
            "_view_name": "HBoxView",
            "_dom_classes": [],
            "_model_name": "HBoxModel",
            "_view_module": "@jupyter-widgets/controls",
            "_model_module_version": "1.5.0",
            "_view_count": null,
            "_view_module_version": "1.5.0",
            "box_style": "",
            "layout": "IPY_MODEL_675db783bec24815ad5690d81b5b4373",
            "_model_module": "@jupyter-widgets/controls",
            "children": [
              "IPY_MODEL_6b8164853e3848d5aaefa1863daa8ca3",
              "IPY_MODEL_537dfa60f4c5401c897d5aaf7b42eaf8"
            ]
          }
        },
        "675db783bec24815ad5690d81b5b4373": {
          "model_module": "@jupyter-widgets/base",
          "model_name": "LayoutModel",
          "state": {
            "_view_name": "LayoutView",
            "grid_template_rows": null,
            "right": null,
            "justify_content": null,
            "_view_module": "@jupyter-widgets/base",
            "overflow": null,
            "_model_module_version": "1.2.0",
            "_view_count": null,
            "flex_flow": null,
            "width": null,
            "min_width": null,
            "border": null,
            "align_items": null,
            "bottom": null,
            "_model_module": "@jupyter-widgets/base",
            "top": null,
            "grid_column": null,
            "overflow_y": null,
            "overflow_x": null,
            "grid_auto_flow": null,
            "grid_area": null,
            "grid_template_columns": null,
            "flex": null,
            "_model_name": "LayoutModel",
            "justify_items": null,
            "grid_row": null,
            "max_height": null,
            "align_content": null,
            "visibility": null,
            "align_self": null,
            "height": null,
            "min_height": null,
            "padding": null,
            "grid_auto_rows": null,
            "grid_gap": null,
            "max_width": null,
            "order": null,
            "_view_module_version": "1.2.0",
            "grid_template_areas": null,
            "object_position": null,
            "object_fit": null,
            "grid_auto_columns": null,
            "margin": null,
            "display": null,
            "left": null
          }
        },
        "6b8164853e3848d5aaefa1863daa8ca3": {
          "model_module": "@jupyter-widgets/controls",
          "model_name": "FloatProgressModel",
          "state": {
            "_view_name": "ProgressView",
            "style": "IPY_MODEL_f7351477805c4ab6a1ff739381cea530",
            "_dom_classes": [],
            "description": "Fit LSTM: 100%",
            "_model_name": "FloatProgressModel",
            "bar_style": "success",
            "max": 1000,
            "_view_module": "@jupyter-widgets/controls",
            "_model_module_version": "1.5.0",
            "value": 1000,
            "_view_count": null,
            "_view_module_version": "1.5.0",
            "orientation": "horizontal",
            "min": 0,
            "description_tooltip": null,
            "_model_module": "@jupyter-widgets/controls",
            "layout": "IPY_MODEL_5e097c68f0404056a019fa6b0b231c9f"
          }
        },
        "537dfa60f4c5401c897d5aaf7b42eaf8": {
          "model_module": "@jupyter-widgets/controls",
          "model_name": "HTMLModel",
          "state": {
            "_view_name": "HTMLView",
            "style": "IPY_MODEL_43e0b2b2e568460f8b0a662f407d8c33",
            "_dom_classes": [],
            "description": "",
            "_model_name": "HTMLModel",
            "placeholder": "​",
            "_view_module": "@jupyter-widgets/controls",
            "_model_module_version": "1.5.0",
            "value": " 1000/1000 [05:17&lt;00:00,  3.15it/s]",
            "_view_count": null,
            "_view_module_version": "1.5.0",
            "description_tooltip": null,
            "_model_module": "@jupyter-widgets/controls",
            "layout": "IPY_MODEL_a8a1bcd3324e4903866db2d14dc0cfa9"
          }
        },
        "f7351477805c4ab6a1ff739381cea530": {
          "model_module": "@jupyter-widgets/controls",
          "model_name": "ProgressStyleModel",
          "state": {
            "_view_name": "StyleView",
            "_model_name": "ProgressStyleModel",
            "description_width": "initial",
            "_view_module": "@jupyter-widgets/base",
            "_model_module_version": "1.5.0",
            "_view_count": null,
            "_view_module_version": "1.2.0",
            "bar_color": null,
            "_model_module": "@jupyter-widgets/controls"
          }
        },
        "5e097c68f0404056a019fa6b0b231c9f": {
          "model_module": "@jupyter-widgets/base",
          "model_name": "LayoutModel",
          "state": {
            "_view_name": "LayoutView",
            "grid_template_rows": null,
            "right": null,
            "justify_content": null,
            "_view_module": "@jupyter-widgets/base",
            "overflow": null,
            "_model_module_version": "1.2.0",
            "_view_count": null,
            "flex_flow": null,
            "width": null,
            "min_width": null,
            "border": null,
            "align_items": null,
            "bottom": null,
            "_model_module": "@jupyter-widgets/base",
            "top": null,
            "grid_column": null,
            "overflow_y": null,
            "overflow_x": null,
            "grid_auto_flow": null,
            "grid_area": null,
            "grid_template_columns": null,
            "flex": null,
            "_model_name": "LayoutModel",
            "justify_items": null,
            "grid_row": null,
            "max_height": null,
            "align_content": null,
            "visibility": null,
            "align_self": null,
            "height": null,
            "min_height": null,
            "padding": null,
            "grid_auto_rows": null,
            "grid_gap": null,
            "max_width": null,
            "order": null,
            "_view_module_version": "1.2.0",
            "grid_template_areas": null,
            "object_position": null,
            "object_fit": null,
            "grid_auto_columns": null,
            "margin": null,
            "display": null,
            "left": null
          }
        },
        "43e0b2b2e568460f8b0a662f407d8c33": {
          "model_module": "@jupyter-widgets/controls",
          "model_name": "DescriptionStyleModel",
          "state": {
            "_view_name": "StyleView",
            "_model_name": "DescriptionStyleModel",
            "description_width": "",
            "_view_module": "@jupyter-widgets/base",
            "_model_module_version": "1.5.0",
            "_view_count": null,
            "_view_module_version": "1.2.0",
            "_model_module": "@jupyter-widgets/controls"
          }
        },
        "a8a1bcd3324e4903866db2d14dc0cfa9": {
          "model_module": "@jupyter-widgets/base",
          "model_name": "LayoutModel",
          "state": {
            "_view_name": "LayoutView",
            "grid_template_rows": null,
            "right": null,
            "justify_content": null,
            "_view_module": "@jupyter-widgets/base",
            "overflow": null,
            "_model_module_version": "1.2.0",
            "_view_count": null,
            "flex_flow": null,
            "width": null,
            "min_width": null,
            "border": null,
            "align_items": null,
            "bottom": null,
            "_model_module": "@jupyter-widgets/base",
            "top": null,
            "grid_column": null,
            "overflow_y": null,
            "overflow_x": null,
            "grid_auto_flow": null,
            "grid_area": null,
            "grid_template_columns": null,
            "flex": null,
            "_model_name": "LayoutModel",
            "justify_items": null,
            "grid_row": null,
            "max_height": null,
            "align_content": null,
            "visibility": null,
            "align_self": null,
            "height": null,
            "min_height": null,
            "padding": null,
            "grid_auto_rows": null,
            "grid_gap": null,
            "max_width": null,
            "order": null,
            "_view_module_version": "1.2.0",
            "grid_template_areas": null,
            "object_position": null,
            "object_fit": null,
            "grid_auto_columns": null,
            "margin": null,
            "display": null,
            "left": null
          }
        }
      }
    }
  },
  "cells": [
    {
      "cell_type": "markdown",
      "metadata": {
        "id": "view-in-github",
        "colab_type": "text"
      },
      "source": [
        "<a href=\"https://colab.research.google.com/github/aufawibowo/lstm-under-different-stability-notebook/blob/master/Notebook_Implementation_of_Stock_Prediction_Based_on_LSTM_under_Different_Stability.ipynb\" target=\"_parent\"><img src=\"https://colab.research.google.com/assets/colab-badge.svg\" alt=\"Open In Colab\"/></a>"
      ]
    },
    {
      "cell_type": "code",
      "metadata": {
        "id": "3ID8hhp6nbZ0",
        "colab_type": "code",
        "colab": {
          "base_uri": "https://localhost:8080/",
          "height": 55
        },
        "outputId": "adda2805-d563-46e5-ed6e-5aa3edadd8d6"
      },
      "source": [
        "gpu_info = !nvidia-smi\n",
        "gpu_info = '\\n'.join(gpu_info)\n",
        "if gpu_info.find('failed') >= 0:\n",
        "  print('Select the Runtime → \"Change runtime type\" menu to enable a GPU accelerator, ')\n",
        "  print('and then re-execute this cell.')\n",
        "else:\n",
        "  print(gpu_info)"
      ],
      "execution_count": 1,
      "outputs": [
        {
          "output_type": "stream",
          "text": [
            "Select the Runtime → \"Change runtime type\" menu to enable a GPU accelerator, \n",
            "and then re-execute this cell.\n"
          ],
          "name": "stdout"
        }
      ]
    },
    {
      "cell_type": "code",
      "metadata": {
        "id": "mGej2vtopN9D",
        "colab_type": "code",
        "colab": {
          "base_uri": "https://localhost:8080/",
          "height": 94
        },
        "outputId": "bfffcb43-fc99-4e85-f67c-f823e9d7833f"
      },
      "source": [
        "# metrics\n",
        "from sklearn.metrics import mean_squared_error\n",
        "from sklearn.metrics import mean_absolute_error\n",
        "from sklearn.metrics import r2_score\n",
        "from sklearn.preprocessing import MinMaxScaler\n",
        "\n",
        "# high-language sequential modeling\n",
        "from keras.models import Sequential\n",
        "from keras.layers import Dense\n",
        "from keras.layers import LSTM\n",
        "from keras import optimizers\n",
        "\n",
        "# misc\n",
        "from pandas import DataFrame\n",
        "from pandas import Series\n",
        "from pandas import concat\n",
        "from pandas import read_csv\n",
        "from pandas import datetime\n",
        "from math import sqrt\n",
        "import matplotlib\n",
        "matplotlib.use('Agg')\n",
        "from matplotlib import pyplot\n",
        "import numpy as np\n",
        "import matplotlib.pyplot as plt\n",
        "\n",
        "# statistic stationarity\n",
        "from statsmodels.tsa.stattools import adfuller\n",
        "\n",
        "# progress bar\n",
        "from tqdm import tqdm\n",
        "from tqdm.notebook import tnrange"
      ],
      "execution_count": 2,
      "outputs": [
        {
          "output_type": "stream",
          "text": [
            "Using TensorFlow backend.\n",
            "/usr/local/lib/python3.6/dist-packages/statsmodels/tools/_testing.py:19: FutureWarning: pandas.util.testing is deprecated. Use the functions in the public API at pandas.testing instead.\n",
            "  import pandas.util.testing as tm\n"
          ],
          "name": "stderr"
        }
      ]
    },
    {
      "cell_type": "code",
      "metadata": {
        "id": "IkghrfMEnkzJ",
        "colab_type": "code",
        "colab": {}
      },
      "source": [
        "class SourceFile:\n",
        "\n",
        "    def __init__(self):\n",
        "        self.source_file = [\"https://raw.githubusercontent.com/aufawibowo/lstm-under-different-stability/master/dataset/SZSE%20200%20Historical%20Data.csv\",\n",
        "                \"https://raw.githubusercontent.com/aufawibowo/lstm-under-different-stability/master/dataset/SZSE%20300%20Historical%20Data.csv\",\n",
        "                \"https://raw.githubusercontent.com/aufawibowo/lstm-under-different-stability/master/dataset/Shanghai%20Shenzhen%20CSI%20300%20Historical%20Data.csv\",\n",
        "                 \"https://raw.githubusercontent.com/aufawibowo/lstm-under-different-stability/master/dataset/Jakarta%20Stock%20Exchange%20Composite%20Index%20Historical%20Data.csv\"]\n",
        "    \n",
        "        self.stock_name = [\"SZSE 200\",\n",
        "                  \"SZSE 300\",\n",
        "                  \"CSI 300\",\n",
        "                  \"JKSE\"]\n",
        "\n",
        "    def get_one_file(self, i):\n",
        "        if isinstance(i, int):\n",
        "            return self.source_file[i]\n",
        "        else:\n",
        "            return \"Parameter i to index must be an integer\"\n",
        "\n",
        "    def get_one_stock_name(self, i):\n",
        "        return self.stock_name[i]\n",
        "\n",
        "    def get_all_file():\n",
        "        return self.source_file\n",
        "\n",
        "    def get_all_stock_name(self,i):\n",
        "        return self.stock_name"
      ],
      "execution_count": 3,
      "outputs": []
    },
    {
      "cell_type": "code",
      "metadata": {
        "id": "csh8GOj452SG",
        "colab_type": "code",
        "colab": {}
      },
      "source": [
        "# data log debugger\n",
        "data_log = {}"
      ],
      "execution_count": 4,
      "outputs": []
    },
    {
      "cell_type": "code",
      "metadata": {
        "id": "yXdAW89Bnzxd",
        "colab_type": "code",
        "colab": {}
      },
      "source": [
        "def timeseries_to_supervised(data, lag=1):\n",
        "\tdf = DataFrame(data)\n",
        "\tcolumns = [df.shift(i) for i in range(1, lag+1)]\n",
        "\tcolumns.append(df)\n",
        "\tdf = concat(columns, axis=1)\n",
        "\tdf = df.drop(0)\n",
        "\treturn df"
      ],
      "execution_count": 5,
      "outputs": []
    },
    {
      "cell_type": "code",
      "metadata": {
        "id": "0UFh7MOpn2d6",
        "colab_type": "code",
        "colab": {}
      },
      "source": [
        "def difference(dataset, interval=1):\n",
        "\tdiff = list()\n",
        "\tfor i in range(interval, len(dataset)):\n",
        "\t\tvalue = dataset[i] - dataset[i - interval]\n",
        "\t\tdiff.append(value)\n",
        "\treturn Series(diff)"
      ],
      "execution_count": 6,
      "outputs": []
    },
    {
      "cell_type": "code",
      "metadata": {
        "id": "S0hegeXBn4xT",
        "colab_type": "code",
        "colab": {}
      },
      "source": [
        "def inverse_difference(history, yhat, interval=1):\n",
        "\treturn yhat + history[-interval]"
      ],
      "execution_count": 7,
      "outputs": []
    },
    {
      "cell_type": "code",
      "metadata": {
        "id": "8dTlZDr8n7-N",
        "colab_type": "code",
        "colab": {}
      },
      "source": [
        "def scale(train, test):\n",
        "\t# fit scaler\n",
        "\tscaler = MinMaxScaler(feature_range=(0, 1))\n",
        "\tscaler = scaler.fit(train)\n",
        "\ttrain = train.reshape(train.shape[0], train.shape[1])\n",
        "\ttrain_scaled = scaler.transform(train)\n",
        "\ttest = test.reshape(test.shape[0], test.shape[1])\n",
        "\ttest_scaled = scaler.transform(test)\n",
        "\treturn scaler, train_scaled, test_scaled"
      ],
      "execution_count": 8,
      "outputs": []
    },
    {
      "cell_type": "code",
      "metadata": {
        "id": "cTW_1cUDohbu",
        "colab_type": "code",
        "colab": {}
      },
      "source": [
        "def invert_scale(scaler, X, yhat):\n",
        "\tnew_row = [x for x in X] + [yhat]\n",
        "\tarray = np.array(new_row)\n",
        "\tarray = array.reshape(1, len(array))\n",
        "\tinverted = scaler.inverse_transform(array)\n",
        "\treturn inverted[0, -1]"
      ],
      "execution_count": 9,
      "outputs": []
    },
    {
      "cell_type": "code",
      "metadata": {
        "id": "SCZkOCAVJNTz",
        "colab_type": "code",
        "colab": {}
      },
      "source": [
        "# evaluate the model on a dataset, returns RMSE in transformed units\n",
        "def evaluate(model, raw_data, scaled_dataset, scaler, offset, batch_size):\n",
        "    # separate\n",
        "    X, y = scaled_dataset[:,0:-1], scaled_dataset[:,-1]\n",
        "    # reshape\n",
        "    reshaped = X.reshape(len(X), 1, 1)\n",
        "    # forecast dataset\n",
        "    output = model.predict(reshaped, batch_size=batch_size)\n",
        "    # invert data transforms on forecast\n",
        "    predictions = list()\n",
        "    for i in range(len(output)):\n",
        "        yhat = output[i,0]\n",
        "        # invert scaling\n",
        "        yhat = invert_scale(scaler, X[i], yhat)\n",
        "        # invert differencing\n",
        "        yhat = yhat + raw_data[i]\n",
        "        # store forecast\n",
        "        predictions.append(yhat)\n",
        "    # report performance\n",
        "    rmse = sqrt(mean_squared_error(raw_data[1:], predictions))\n",
        "    mae = mean_absolute_error(raw_data[1:], predictions)\n",
        "    r_squared = r2_score(raw_data[1:], predictions)\n",
        "    # pd_test = DataFrame(raw_data[1:])\n",
        "    # pd_test.to_csv('data_test.csv')\n",
        "    # pd_predictions = DataFrame(predictions)\n",
        "    # pd_predictions.to_csv('data_predictions.csv')\n",
        "\n",
        "    return rmse, mae, r_squared"
      ],
      "execution_count": 10,
      "outputs": []
    },
    {
      "cell_type": "code",
      "metadata": {
        "id": "MGilCkRxMJ_u",
        "colab_type": "code",
        "colab": {
          "base_uri": "https://localhost:8080/",
          "height": 36
        },
        "outputId": "c7c5867f-98bb-412b-92ed-cb647b755794"
      },
      "source": [
        "data_log.keys()"
      ],
      "execution_count": 11,
      "outputs": [
        {
          "output_type": "execute_result",
          "data": {
            "text/plain": [
              "dict_keys([])"
            ]
          },
          "metadata": {
            "tags": []
          },
          "execution_count": 11
        }
      ]
    },
    {
      "cell_type": "code",
      "metadata": {
        "id": "VVFhUjeqorVw",
        "colab_type": "code",
        "colab": {}
      },
      "source": [
        "\"\"\"\n",
        "Description of fit_lstm()\n",
        "Trains and returns an LSTM model. \n",
        "Takes the training dataset in a supervised learning format, a batch size, a number of epochs, and a number of neurons.\n",
        "\"\"\"\n",
        "def fit_lstm(train, test, raw, scaler, batch_size, epochs, neurons, timesteps, repeatation):\n",
        "    X, y = train[:, 0:-1], train[:, -1]\n",
        "    X = X.reshape(X.shape[0], timesteps, X.shape[1])\n",
        "    data_log['fit_lstm_X_reshaped'] = X\n",
        "\n",
        "    # building model\n",
        "    model = Sequential()\n",
        "    model.add(LSTM(neurons, activation='tanh', batch_input_shape=(batch_size, X.shape[1], X.shape[2]), stateful=True))\n",
        "    # model.add(LSTM(neurons, activation='tanh', return_sequences=True, stateful=True))\n",
        "    # model.add(LSTM(neurons, activation='tanh', return_sequences=True, stateful=True))\n",
        "    # model.add(LSTM(neurons, activation='tanh', return_sequences=True, stateful=True))\n",
        "    # model.add(LSTM(neurons, activation='tanh', return_sequences=True, stateful=True))\n",
        "    # model.add(LSTM(neurons, activation='tanh', return_sequences=True, stateful=True))\n",
        "    # model.add(LSTM(neurons, activation='tanh', return_sequences=True, stateful=True))\n",
        "    # model.add(LSTM(neurons, activation='tanh', return_sequences=True, stateful=True))\n",
        "    # model.add(LSTM(neurons, activation='tanh', return_sequences=True, stateful=True))\n",
        "    # model.add(LSTM(neurons, activation='tanh', stateful=True))\n",
        "    model.add(Dense(1, activation='tanh'))\n",
        "    sgd = optimizers.SGD(lr=0.000001)\n",
        "    model.compile(loss='mean_squared_error', optimizer='sgd')\n",
        "\n",
        "    train_rmse, test_rmse = list(), list()\n",
        "    train_mae, test_mae = list(), list()\n",
        "    train_r_squared, test_r_squared = list(), list()\n",
        "    for i in tnrange(epochs, desc = 'Fit LSTM'):\n",
        "        #fit model\n",
        "        temp = model.fit(X, y, epochs=1, batch_size=batch_size, verbose=0, shuffle=False)\n",
        "        data_log['history_' + str(repeatation) + str(i)] = temp\n",
        "\n",
        "        # evaluate model on train data\n",
        "        raw_train = raw[-(len(train)+len(test)+1):-len(test)]\n",
        "        rmse, mae, r_squared = evaluate(model, raw_train, train, scaler, 0, batch_size)\n",
        "        train_rmse.append(rmse)\n",
        "        train_mae.append(mae)\n",
        "        train_r_squared.append(r_squared)\n",
        "\n",
        "        # evaluate model on test data\n",
        "        raw_test = raw[-(len(test)+1):]\n",
        "        rmse, mae, r_squared = evaluate(model, raw_test, test, scaler, 0, batch_size)\n",
        "        test_rmse.append(rmse)\n",
        "        test_mae.append(mae)\n",
        "        test_r_squared.append(r_squared)\n",
        "\n",
        "        model.reset_states()\n",
        "    \n",
        "    # logging pake dict global\n",
        "    data_log['train_rmse_' + str(repeatation)] = train_rmse\n",
        "    data_log['test_rmse_' + str(repeatation)] = test_rmse\n",
        "    data_log['train_mae_' + str(repeatation)] = train_mae\n",
        "    data_log['test_mae_' + str(repeatation)] = test_mae\n",
        "    data_log['train_r_squared_' + str(repeatation)] = train_r_squared\n",
        "    data_log['test_r_squared_' + str(repeatation)] = train_r_squared\n",
        "\n",
        "    return model"
      ],
      "execution_count": 12,
      "outputs": []
    },
    {
      "cell_type": "code",
      "metadata": {
        "id": "tc4RrtA06Aii",
        "colab_type": "code",
        "colab": {}
      },
      "source": [
        "def plot_1(series, predictions, file_name):\n",
        "    pyplot.figure(figsize=(12,7))\n",
        "    pyplot.plot(series['Price'], 'green', color='blue', label='LSTM Training Data')\n",
        "    pyplot.plot(series.index[-300:], predictions, color='green', marker='o', linestyle='dashed', label='LSTM Predicted Price')\n",
        "    pyplot.plot(series.index[-300:], series['Price'][-300:], color='red', label='Actual Price')\n",
        "    pyplot.title(file_name)\n",
        "    pyplot.xlabel('Dates')\n",
        "    pyplot.ylabel('Prices')\n",
        "    #plt.xticks(np.arange(0,len(series), 300), series.index[0:len(series):300])\n",
        "    pyplot.legend()\n",
        "    pyplot.savefig('LSTM_' + file_name + '_Full.png')"
      ],
      "execution_count": 13,
      "outputs": []
    },
    {
      "cell_type": "code",
      "metadata": {
        "id": "EpwUBErw6B1Y",
        "colab_type": "code",
        "colab": {}
      },
      "source": [
        "def plot_2(series, predictions, file_name):\n",
        "    pyplot.figure(figsize=(12,7))\n",
        "    pyplot.plot(series.index[-300:], predictions, color='green', marker='o', linestyle='dashed', label='LSTM Predicted Price')\n",
        "    pyplot.plot(series.index[-300:], series['Price'][-300:], color='red', label='Actual Price')\n",
        "    pyplot.xticks(np.arange(1486,len(series), 60), series['Price'][1486:len(series):60])\n",
        "    pyplot.title(file_name)\n",
        "    pyplot.xlabel('Dates')\n",
        "    pyplot.ylabel('Prices')\n",
        "    pyplot.legend()\n",
        "    pyplot.savefig('LSTM_' + file_name[36:] + '_Prediction Result.png')"
      ],
      "execution_count": 14,
      "outputs": []
    },
    {
      "cell_type": "code",
      "metadata": {
        "id": "y1ENfhf5otYA",
        "colab_type": "code",
        "colab": {}
      },
      "source": [
        "def do_trial(repeats, series, epochs, batch_size, neurons, timesteps, file_name):\n",
        "    # get difference\n",
        "    diff_values = difference(series['Price'].values, 1)\n",
        "    data_log['diff_values'] = diff_values\n",
        "\n",
        "    # convert to supervised \n",
        "    supervised = timeseries_to_supervised(diff_values, timesteps)\n",
        "    data_log['supervised'] = supervised\n",
        "\n",
        "    # pick values only\n",
        "    supervised_values = supervised.values[timesteps:,:]\n",
        "    data_log['supervised_values'] = supervised_values\n",
        "\n",
        "    train, test = supervised_values[0:-300], supervised_values[-300:]\n",
        "\n",
        "    # scale data\n",
        "    scaler, train_scaled, test_scaled = scale(train, test)\n",
        "    data_log['train_scaled'] = train_scaled\n",
        "    data_log['test_scaled'] = test_scaled\n",
        "\n",
        "    error_scores = list()\n",
        "    for repeatation in tnrange(repeats, desc = 'Main Lane'):\n",
        "        train_trimmed = train_scaled[2:, :]\n",
        "        data_log['train_trimmed'] = train_trimmed\n",
        "\n",
        "        raw_values = series['Price'].values\n",
        "        lstm_model = fit_lstm(train_trimmed, test_scaled, raw_values, scaler, batch_size, epochs, neurons, timesteps, repeatation)\n",
        "        \n",
        "        train_reshaped = train_trimmed[:, 0].reshape(len(train_trimmed), 1, 1)\n",
        "        data_log['train_reshaped'] = train_reshaped\n",
        "\n",
        "        # train\n",
        "        lstm_model.predict(train_reshaped, batch_size=batch_size)\n",
        "\n",
        "        test_reshaped = test_scaled[:,0:-1]\n",
        "        test_reshaped = test_reshaped.reshape(len(test_reshaped), 1, 1)\n",
        "        data_log['test_reshaped'] = test_reshaped\n",
        "\n",
        "        # test\n",
        "        output = lstm_model.predict(test_reshaped, batch_size=batch_size)\n",
        "        data_log['output'] = output\n",
        "\n",
        "        predictions = list()\n",
        "\n",
        "        # convert prediction result to unscaled data\n",
        "        for i in range(len(output)):\n",
        "            yhat = output[i,0]\n",
        "            X = test_scaled[i, 0:-1]\n",
        "            yhat = invert_scale(scaler, X, yhat)\n",
        "            yhat = inverse_difference(raw_values, yhat, len(test_scaled)+1-i)\n",
        "            predictions.append(yhat)\n",
        "\n",
        "        # rmse after prediction\n",
        "        rmse = sqrt(mean_squared_error(raw_values[-300:], predictions))\n",
        "        print('%d) Test RMSE: %.3f' % (repeatation+1, rmse))\n",
        "        error_scores.append(rmse)\n",
        "    pyplot.savefig('Error convergence_' + file_name + '.png')\n",
        "    data_log['error_scores'] = error_scores\n",
        "    data_log['lstm_model_summary'] = lstm_model.summary()\n",
        "    data_log['predictions'] = predictions\n",
        "\n",
        "    return error_scores, predictions"
      ],
      "execution_count": 15,
      "outputs": []
    },
    {
      "cell_type": "code",
      "metadata": {
        "id": "mtETL8r98Smn",
        "colab_type": "code",
        "colab": {}
      },
      "source": [
        "def return_scaled_data(repeats, series, epochs, batch_size, neurons, timesteps):\n",
        "    raw_values = series['Price'].values\n",
        "    diff_values = difference(raw_values, 1)\n",
        "    supervised = timeseries_to_supervised(diff_values, timesteps)\n",
        "    supervised_values = supervised.values[timesteps:,:]\n",
        "    train, test = supervised_values[0:-300], supervised_values[-300:]\n",
        "    scaler, train_scaled, test_scaled = scale(train, test)\n",
        "\n",
        "    return train_scaled, test_scaled"
      ],
      "execution_count": 16,
      "outputs": []
    },
    {
      "cell_type": "code",
      "metadata": {
        "id": "3IrIlb-DMW1K",
        "colab_type": "code",
        "colab": {}
      },
      "source": [
        "def stationarity_info(series, file_address):\n",
        "    results = adfuller(series)\n",
        "    print(file_address)   # google colab address only\n",
        "    print('ADF Statistic: %f' % results[0])\n",
        "    print('p-value: %f' % results[1])\n",
        "    print('Critical Values:')\n",
        "    values = []\n",
        "    for key, value in results[4].items():\n",
        "        print('\\t%s: %.3f' % (key, value))\n",
        "        values.append(value)\n",
        "    if(results[0] > max(values)):\n",
        "        print(\"Non-stationary and most likely random walk.\")\n",
        "    else:\n",
        "        print(\"Stationary\")\n",
        "    print(\"\")"
      ],
      "execution_count": 17,
      "outputs": []
    },
    {
      "cell_type": "code",
      "metadata": {
        "id": "gsY-4LeZi_0E",
        "colab_type": "code",
        "colab": {}
      },
      "source": [
        "# #kode untuk mencetak data scaled\n",
        "# pyplot.figure(figsize=(12,7))\n",
        "# pyplot.plot(train_scaled, 'green', color='blue', label=file_address[36:-4] + 'Train Scaled')\n",
        "# pyplot.title(file_address[36:]+ 'Train Scaled')\n",
        "# pyplot.xlabel('Dates')\n",
        "# pyplot.ylabel('Prices')\n",
        "# #plt.xticks(np.arange(0,len(series), 300), series.index[0:len(series):300])\n",
        "# pyplot.legend()\n",
        "# pyplot.savefig(file_address[36:] + '_train_scaled.png')\n",
        "\n",
        "# pyplot.figure(figsize=(12,7))\n",
        "# pyplot.plot(test_scaled, 'green', color='blue', label=file_address[36:-4] + 'Test Scaled')\n",
        "# pyplot.title(file_address[36:]+ 'Test Scaled')\n",
        "# pyplot.xlabel('Dates')\n",
        "# pyplot.ylabel('Prices')\n",
        "# #plt.xticks(np.arange(0,len(series), 300), series.index[0:len(series):300])\n",
        "# pyplot.legend()\n",
        "# pyplot.savefig(file_address[36:] + '_test_scaled.png')"
      ],
      "execution_count": 18,
      "outputs": []
    },
    {
      "cell_type": "code",
      "metadata": {
        "id": "VJ-zc8hUoxZd",
        "colab_type": "code",
        "colab": {
          "base_uri": "https://localhost:8080/",
          "height": 1000,
          "referenced_widgets": [
            "8ef9e4dca73d4389ae9be39cbdb18693",
            "ec14dd4925a64213b4653bc199e9c3b2",
            "b418acd991e748e7995bd522841ebc0f",
            "f464f12cfd8041eabfcdefd1735a4846",
            "70c7d6c74bb34116b5ff6a256387b845",
            "a0ea6456ca44462baae5ac1e2258b519",
            "a585abbfafeb45b8a149a37bb8b5090b",
            "34cd755147924a1a8128c4de15df43c6",
            "8581534d2fa94ebfa5178e1368d82538",
            "ea8d46a9fd4d462fa7d1c452d9f91aa8",
            "a0799169cae04424a4521342bb2b2d68",
            "894f8a03b4f14bdabf10986a8468ee49",
            "d2c0cdd003cd40b2bff31517247a52b4",
            "d75d30d6e3cf440a84fbf1aeaf9df5d9",
            "31fc868d041e41d2ba2c2554430ac283",
            "ce2b979859354f9aac96f1654f81fab7",
            "91f17182a66d4c098ff2917b58d8f2b7",
            "dc347efc0d7e41e29f89e2bf422950b2",
            "df9d39519ed743ca845aa2dc5842b99e",
            "e77bd81e296e4eaea1e7b6863a99f996",
            "87c9520956b84b36ad59f0151f40d8ae",
            "d19d96805ae14fb0896ec846aa67c077",
            "fd3f2a7894f04c87b5fca0ae06e5eb51",
            "f91a9a8ac6724ae3a3b5a657a505d88d",
            "e34caf2804194ea98aad4194d2ffbd72",
            "6cb320d926014ff79c5bdf662e4c8472",
            "a9a5d02b1eeb45b6b7d8368eee4a1919",
            "c3643b8bb412442dafa835b1012221ca",
            "5df065907b204b748fd1cd7230b7481b",
            "ef17fa0596164da0baa377c164164854",
            "53ca86efd1ec43eabeecc39e9d9b16c8",
            "8cd15c53e5704ebab0bafd0ae9b8b363",
            "9765f14defe740af906e86d110775124",
            "bebc4c000c284fb9b7f5d004089128ce",
            "f0e29f489820406097720918da85df1c",
            "b89a6e76aec74a5c97ad3406b553eb0f",
            "fcef45587ed44ce5af56babf1e1409c5",
            "bfd0b64713b447c49b0f70d411919e48",
            "be14ae5ff0814aac86717ef218522bc5",
            "c2c684377a574f21a5e73b22bc55f78d",
            "268a637bb7c84a57bf2b3b0e71ff8f02",
            "675db783bec24815ad5690d81b5b4373",
            "6b8164853e3848d5aaefa1863daa8ca3",
            "537dfa60f4c5401c897d5aaf7b42eaf8",
            "f7351477805c4ab6a1ff739381cea530",
            "5e097c68f0404056a019fa6b0b231c9f",
            "43e0b2b2e568460f8b0a662f407d8c33",
            "a8a1bcd3324e4903866db2d14dc0cfa9"
          ]
        },
        "outputId": "f80a70a6-7dd0-4eba-e607-6b434a65402b"
      },
      "source": [
        "\n",
        "file_object = SourceFile()\n",
        "stock_array_index = 0\n",
        "file_name = file_object.get_one_file(stock_array_index)\n",
        "stock_name = file_object.get_one_stock_name(stock_array_index)\n",
        "\n",
        "# for file_name in source_file:\n",
        "series = read_csv(file_name, header=0, parse_dates=[0], index_col=0, squeeze=True)\n",
        "series = series.head(1000)\n",
        "repeats = 5\n",
        "results = DataFrame()\n",
        "epochs = 1000\n",
        "batches = 5\n",
        "neurons = 3\n",
        "timesteps = 1\n",
        "\n",
        "# get stationarity information\n",
        "stationarity_info(series['Price'].values, stock_name)\n",
        "\n",
        "# main lane\n",
        "results[0], predictions = do_trial(repeats, series, epochs, batches, neurons, timesteps, stock_name)\n",
        "print(results.describe())\n",
        "results.boxplot()\n",
        "pyplot.legend()\n",
        "pyplot.show()\n",
        "\n",
        "plot_1(series, predictions, stock_name)\n",
        "plot_2(series, predictions, stock_name)"
      ],
      "execution_count": 19,
      "outputs": [
        {
          "output_type": "stream",
          "text": [
            "SZSE 200\n",
            "ADF Statistic: -2.034669\n",
            "p-value: 0.271582\n",
            "Critical Values:\n",
            "\t1%: -3.437\n",
            "\t5%: -2.864\n",
            "\t10%: -2.568\n",
            "Non-stationary and most likely random walk.\n",
            "\n"
          ],
          "name": "stdout"
        },
        {
          "output_type": "display_data",
          "data": {
            "application/vnd.jupyter.widget-view+json": {
              "model_id": "8ef9e4dca73d4389ae9be39cbdb18693",
              "version_minor": 0,
              "version_major": 2
            },
            "text/plain": [
              "HBox(children=(FloatProgress(value=0.0, description='Main Lane', max=5.0, style=ProgressStyle(description_widt…"
            ]
          },
          "metadata": {
            "tags": []
          }
        },
        {
          "output_type": "display_data",
          "data": {
            "application/vnd.jupyter.widget-view+json": {
              "model_id": "8581534d2fa94ebfa5178e1368d82538",
              "version_minor": 0,
              "version_major": 2
            },
            "text/plain": [
              "HBox(children=(FloatProgress(value=0.0, description='Fit LSTM', max=1000.0, style=ProgressStyle(description_wi…"
            ]
          },
          "metadata": {
            "tags": []
          }
        },
        {
          "output_type": "stream",
          "text": [
            "\n",
            "1) Test RMSE: 57.995\n"
          ],
          "name": "stdout"
        },
        {
          "output_type": "display_data",
          "data": {
            "application/vnd.jupyter.widget-view+json": {
              "model_id": "91f17182a66d4c098ff2917b58d8f2b7",
              "version_minor": 0,
              "version_major": 2
            },
            "text/plain": [
              "HBox(children=(FloatProgress(value=0.0, description='Fit LSTM', max=1000.0, style=ProgressStyle(description_wi…"
            ]
          },
          "metadata": {
            "tags": []
          }
        },
        {
          "output_type": "stream",
          "text": [
            "\n",
            "2) Test RMSE: 57.732\n"
          ],
          "name": "stdout"
        },
        {
          "output_type": "display_data",
          "data": {
            "application/vnd.jupyter.widget-view+json": {
              "model_id": "e34caf2804194ea98aad4194d2ffbd72",
              "version_minor": 0,
              "version_major": 2
            },
            "text/plain": [
              "HBox(children=(FloatProgress(value=0.0, description='Fit LSTM', max=1000.0, style=ProgressStyle(description_wi…"
            ]
          },
          "metadata": {
            "tags": []
          }
        },
        {
          "output_type": "stream",
          "text": [
            "\n",
            "3) Test RMSE: 57.760\n"
          ],
          "name": "stdout"
        },
        {
          "output_type": "display_data",
          "data": {
            "application/vnd.jupyter.widget-view+json": {
              "model_id": "9765f14defe740af906e86d110775124",
              "version_minor": 0,
              "version_major": 2
            },
            "text/plain": [
              "HBox(children=(FloatProgress(value=0.0, description='Fit LSTM', max=1000.0, style=ProgressStyle(description_wi…"
            ]
          },
          "metadata": {
            "tags": []
          }
        },
        {
          "output_type": "stream",
          "text": [
            "\n",
            "4) Test RMSE: 57.348\n"
          ],
          "name": "stdout"
        },
        {
          "output_type": "display_data",
          "data": {
            "application/vnd.jupyter.widget-view+json": {
              "model_id": "268a637bb7c84a57bf2b3b0e71ff8f02",
              "version_minor": 0,
              "version_major": 2
            },
            "text/plain": [
              "HBox(children=(FloatProgress(value=0.0, description='Fit LSTM', max=1000.0, style=ProgressStyle(description_wi…"
            ]
          },
          "metadata": {
            "tags": []
          }
        },
        {
          "output_type": "stream",
          "text": [
            "\n",
            "5) Test RMSE: 57.679\n",
            "\n",
            "Model: \"sequential_5\"\n",
            "_________________________________________________________________\n",
            "Layer (type)                 Output Shape              Param #   \n",
            "=================================================================\n",
            "lstm_5 (LSTM)                (5, 3)                    60        \n",
            "_________________________________________________________________\n",
            "dense_5 (Dense)              (5, 1)                    4         \n",
            "=================================================================\n",
            "Total params: 64\n",
            "Trainable params: 64\n",
            "Non-trainable params: 0\n",
            "_________________________________________________________________\n",
            "               0\n",
            "count   5.000000\n",
            "mean   57.702808\n",
            "std     0.232270\n",
            "min    57.348127\n",
            "25%    57.679057\n",
            "50%    57.731661\n",
            "75%    57.760334\n",
            "max    57.994859\n"
          ],
          "name": "stdout"
        },
        {
          "output_type": "stream",
          "text": [
            "No handles with labels found to put in legend.\n"
          ],
          "name": "stderr"
        }
      ]
    },
    {
      "cell_type": "markdown",
      "metadata": {
        "id": "DCoGO5nSjF8i",
        "colab_type": "text"
      },
      "source": [
        "### Debugging"
      ]
    },
    {
      "cell_type": "markdown",
      "metadata": {
        "id": "dGlh3i079wgH",
        "colab_type": "text"
      },
      "source": [
        "### Eval"
      ]
    },
    {
      "cell_type": "markdown",
      "metadata": {
        "id": "U-yzrqdR9y5R",
        "colab_type": "text"
      },
      "source": [
        "#### RMSE"
      ]
    },
    {
      "cell_type": "code",
      "metadata": {
        "id": "R0xIB-YFuoDX",
        "colab_type": "code",
        "colab": {
          "base_uri": "https://localhost:8080/",
          "height": 36
        },
        "outputId": "051a0491-ae54-4acf-b615-77872e1b87bf"
      },
      "source": [
        "data_log['train_rmse_0'][-1]"
      ],
      "execution_count": 20,
      "outputs": [
        {
          "output_type": "execute_result",
          "data": {
            "text/plain": [
              "122.43855381497244"
            ]
          },
          "metadata": {
            "tags": []
          },
          "execution_count": 20
        }
      ]
    },
    {
      "cell_type": "code",
      "metadata": {
        "id": "WT4hqeaW0Qcd",
        "colab_type": "code",
        "colab": {
          "base_uri": "https://localhost:8080/",
          "height": 206
        },
        "outputId": "c5041093-d357-4330-bc94-b92106fd26f1"
      },
      "source": [
        "results"
      ],
      "execution_count": 21,
      "outputs": [
        {
          "output_type": "execute_result",
          "data": {
            "text/html": [
              "<div>\n",
              "<style scoped>\n",
              "    .dataframe tbody tr th:only-of-type {\n",
              "        vertical-align: middle;\n",
              "    }\n",
              "\n",
              "    .dataframe tbody tr th {\n",
              "        vertical-align: top;\n",
              "    }\n",
              "\n",
              "    .dataframe thead th {\n",
              "        text-align: right;\n",
              "    }\n",
              "</style>\n",
              "<table border=\"1\" class=\"dataframe\">\n",
              "  <thead>\n",
              "    <tr style=\"text-align: right;\">\n",
              "      <th></th>\n",
              "      <th>0</th>\n",
              "    </tr>\n",
              "  </thead>\n",
              "  <tbody>\n",
              "    <tr>\n",
              "      <th>0</th>\n",
              "      <td>57.994859</td>\n",
              "    </tr>\n",
              "    <tr>\n",
              "      <th>1</th>\n",
              "      <td>57.731661</td>\n",
              "    </tr>\n",
              "    <tr>\n",
              "      <th>2</th>\n",
              "      <td>57.760334</td>\n",
              "    </tr>\n",
              "    <tr>\n",
              "      <th>3</th>\n",
              "      <td>57.348127</td>\n",
              "    </tr>\n",
              "    <tr>\n",
              "      <th>4</th>\n",
              "      <td>57.679057</td>\n",
              "    </tr>\n",
              "  </tbody>\n",
              "</table>\n",
              "</div>"
            ],
            "text/plain": [
              "           0\n",
              "0  57.994859\n",
              "1  57.731661\n",
              "2  57.760334\n",
              "3  57.348127\n",
              "4  57.679057"
            ]
          },
          "metadata": {
            "tags": []
          },
          "execution_count": 21
        }
      ]
    },
    {
      "cell_type": "code",
      "metadata": {
        "id": "KDfQuu5N1FkJ",
        "colab_type": "code",
        "colab": {}
      },
      "source": [
        "import matplotlib.pyplot as plt\n",
        "\n",
        "# Fixing random state for reproducibility\n",
        "np.random.seed(19680801)\n",
        "\n",
        "# fake up some data\n",
        "spread = np.random.rand(50) * 100\n",
        "center = np.ones(25) * 50\n",
        "flier_high = np.random.rand(10) * 100 + 100\n",
        "flier_low = np.random.rand(10) * -100\n",
        "data = np.concatenate((spread, center, flier_high, flier_low))\n",
        "\n",
        "fig1, ax1 = plt.subplots()\n",
        "ax1.set_title('Basic Plot')\n",
        "ax1.boxplot(data)\n",
        "fig1.savefig('matplotlib.png')"
      ],
      "execution_count": 22,
      "outputs": []
    },
    {
      "cell_type": "code",
      "metadata": {
        "id": "QL-uPjhKfc7F",
        "colab_type": "code",
        "colab": {
          "base_uri": "https://localhost:8080/",
          "height": 207
        },
        "outputId": "b2a8d957-3f59-47b2-8844-816d26ecae05"
      },
      "source": [
        "spread"
      ],
      "execution_count": 23,
      "outputs": [
        {
          "output_type": "execute_result",
          "data": {
            "text/plain": [
              "array([70.03673039, 74.27508094, 70.92800107, 56.67455225, 97.77853328,\n",
              "       70.6334846 , 24.79157587, 15.78833509, 69.76985214, 71.99566667,\n",
              "       25.77444303, 34.15467831, 96.87611677, 69.45070978, 46.63832593,\n",
              "       70.28126954, 51.1785874 , 92.874137  , 73.97692989, 62.24390337,\n",
              "       65.15454689, 39.68076115, 54.32393949, 79.98995282, 72.15447266,\n",
              "       29.53639811, 16.09458806, 20.61255148, 13.43253868, 48.06050174,\n",
              "       34.25218134, 36.29692901, 97.29176387, 11.09436116, 38.82640891,\n",
              "       78.30658753, 97.28972601, 48.32096053, 33.64211054, 56.74190362,\n",
              "        4.79415097, 38.8937029 , 90.63036451, 16.10182093, 74.36211347,\n",
              "       63.29741618, 32.41800177, 92.23765324, 23.72264387, 82.39455709])"
            ]
          },
          "metadata": {
            "tags": []
          },
          "execution_count": 23
        }
      ]
    },
    {
      "cell_type": "code",
      "metadata": {
        "id": "1KfzFJX_4lVG",
        "colab_type": "code",
        "colab": {
          "base_uri": "https://localhost:8080/",
          "height": 178
        },
        "outputId": "f36cd02f-2708-427b-d9ac-6067a3f0e7ae"
      },
      "source": [
        "df_train_rmse_list"
      ],
      "execution_count": 24,
      "outputs": [
        {
          "output_type": "error",
          "ename": "NameError",
          "evalue": "ignored",
          "traceback": [
            "\u001b[0;31m---------------------------------------------------------------------------\u001b[0m",
            "\u001b[0;31mNameError\u001b[0m                                 Traceback (most recent call last)",
            "\u001b[0;32m<ipython-input-24-5eae998796c0>\u001b[0m in \u001b[0;36m<module>\u001b[0;34m()\u001b[0m\n\u001b[0;32m----> 1\u001b[0;31m \u001b[0mdf_train_rmse_list\u001b[0m\u001b[0;34m\u001b[0m\u001b[0;34m\u001b[0m\u001b[0m\n\u001b[0m",
            "\u001b[0;31mNameError\u001b[0m: name 'df_train_rmse_list' is not defined"
          ]
        }
      ]
    },
    {
      "cell_type": "code",
      "metadata": {
        "id": "9NIVDgep9z81",
        "colab_type": "code",
        "colab": {}
      },
      "source": [
        "train_rmse_list = list()\n",
        "test_rmse_list = list()\n",
        "for i in range(repeats):\n",
        "    train_rmse_list.append(data_log['train_rmse_' + str(i)])\n",
        "    test_rmse_list.append(data_log['test_rmse_' + str(i)])\n",
        "\n",
        "#line plot\n",
        "train_rmse_pyplot = pyplot.figure(figsize=(12,7))\n",
        "test_rmse_pyplot = pyplot.figure(figsize=(12,7))\n",
        "\n",
        "train_rmse_pyplot = pyplot.plot(train_rmse_list, color='blue', label='Train RMSE')\n",
        "test_rmse_pyplot = pyplot.plot(test_rmse_list, color='orange', label='Test RMSE')\n",
        "\n",
        "train_rmse_pyplot.savefig('RMSE_train_plot_overtime.png')\n",
        "test_rmse_pyplot.savefig('RMSE_test_plot_overtime.png')\n",
        "\n",
        "#box plot\n",
        "train_rmse_boxplot_fig = pyplot.figure(figsize=(8,8))\n",
        "test_rmse_boxplot_fig = pyplot.figure(figsize=(8,8))\n",
        "\n",
        "pyplot.boxplot([x[-1] for x in train_rmse_list])\n",
        "pyplot.boxplot([x[-1] for x in test_rmse_list])\n",
        "\n",
        "train_rmse_boxplot_fig.savefig('RMSE_train_boxplot.png')\n",
        "test_rmse_boxplot_fig.savefig('RMSE_test_boxplot.png')"
      ],
      "execution_count": null,
      "outputs": []
    },
    {
      "cell_type": "code",
      "metadata": {
        "id": "2uyWCvC4Yt3z",
        "colab_type": "code",
        "colab": {}
      },
      "source": [
        "len(train_rmse_list)"
      ],
      "execution_count": null,
      "outputs": []
    },
    {
      "cell_type": "markdown",
      "metadata": {
        "id": "YZe1aqpD96ug",
        "colab_type": "text"
      },
      "source": [
        "#### MAE"
      ]
    },
    {
      "cell_type": "code",
      "metadata": {
        "id": "ft259rZh974h",
        "colab_type": "code",
        "colab": {}
      },
      "source": [
        "train_mae_list = list()\n",
        "test_mae_list = list()\n",
        "\n",
        "for i in range(repeats):\n",
        "    train_mae_list.append(data_log['train_mae_' + str(i)])\n",
        "    test_mae_list.append(data_log['test_mae_' + str(i)])\n",
        "\n",
        "#line plot\n",
        "train_mae_list = pyplot.figure(figsize=(12,7))\n",
        "test_mae_list = pyplot.figure(figsize=(12,7))\n",
        "\n",
        "train_mae_list.plot(train_rmse_list, color='blue', label='Train MAE')\n",
        "test_mae_list.plot(test_rmse_list, color='orange', label='Test MAE')\n",
        "\n",
        "train_mae_pyplot.savefig('MAE_train_plot_overtime.png')\n",
        "test_mae_pyplot.savefig('MAE_test_plot_overtime.png')\n",
        "\n",
        "#box plot\n",
        "train_mae_boxplot_fig = pyplot.figure(figsize=(8,8))\n",
        "test_mae_boxplot_fig = pyplot.figure(figsize=(8,8))\n",
        "\n",
        "train_mae_boxplot_fig.boxplot(train_mae_list)\n",
        "test_mae_boxplot_fig.boxplot(test_mae_list)\n",
        "\n",
        "train_mae_boxplot_fig.savefig('MAE_train_boxplot.png')\n",
        "test_mae_boxplot_fig.savefig('MAE_test_boxplot.png')"
      ],
      "execution_count": null,
      "outputs": []
    },
    {
      "cell_type": "markdown",
      "metadata": {
        "id": "WFV9v0YB9s1N",
        "colab_type": "text"
      },
      "source": [
        "#### R2"
      ]
    },
    {
      "cell_type": "code",
      "metadata": {
        "id": "ssmfKWwrIl4_",
        "colab_type": "code",
        "colab": {}
      },
      "source": [
        "train_r2_list = list()\n",
        "test_r2_list = list()\n",
        "\n",
        "for i in range(repeats):\n",
        "    train_mae_list.append(data_log['train_mae_' + str(i)])\n",
        "    test_mae_list.append(data_log['test_mae_' + str(i)])\n",
        "\n",
        "train_r2_pyplot = pyplot.figure(figsize=(12,7))\n",
        "test_r2_pyplot = pyplot.figure(figsize=(12,7))\n",
        "train_r2_pyplot.plot(train_r2_list, color='blue', label='Train R2')\n",
        "test_r2_pyplot.plot(test_r2_list, color='orange', label='Test R2')\n",
        "\n",
        "train_r2_pyplot.savefig('R2_train_plot_overtime.png')\n",
        "test_r2_pyplot.savefig('R2_test_plot_overtime.png')\n",
        "\n",
        "#box plot\n",
        "train_r2_boxplot_fig = pyplot.figure(figsize=(8,8))\n",
        "test_r2_boxplot_fig = pyplot.figure(figsize=(8,8))\n",
        "\n",
        "train_r2_boxplot_fig.boxplot(train_r2_list)\n",
        "test_r2_boxplot_fig.boxplot(test_r2_list)\n",
        "\n",
        "train_r2_boxplot_fig.savefig('R2_train_boxplot.png')\n",
        "test_r2_boxplot_fig.savefig('R2_test_boxplot.png')"
      ],
      "execution_count": null,
      "outputs": []
    },
    {
      "cell_type": "code",
      "metadata": {
        "id": "2qCYRpxu5sOg",
        "colab_type": "code",
        "colab": {}
      },
      "source": [
        "data_log.keys()"
      ],
      "execution_count": null,
      "outputs": []
    },
    {
      "cell_type": "code",
      "metadata": {
        "id": "rkhctTzqJd14",
        "colab_type": "code",
        "colab": {}
      },
      "source": [
        "data_log['history_0994'].history.keys()\n",
        "# data_log['history_0994'].history['val_loss']"
      ],
      "execution_count": null,
      "outputs": []
    },
    {
      "cell_type": "code",
      "metadata": {
        "id": "RdBURs9CM7fr",
        "colab_type": "code",
        "colab": {}
      },
      "source": [
        "history_loss_list = list()\n",
        "\n",
        "for i in range(repeats):\n",
        "    for j in range(1000):\n",
        "        history_loss_list.append(data_log['history_' + str(i) + str(j)].history['loss'])\n",
        "        # history_loss_list.append(data_log['history_' + str(i) + str(j)].history['val_loss'])\n",
        "\n",
        "\n",
        "pyplot.figure(figsize=(12,7))\n",
        "pyplot.plot(history_loss_list, color='blue', label='Loss')\n",
        "# pyplot.plot(test_r_squared_list, color='orange', label='Test R2')\n",
        "pyplot.savefig('loss_plot_overtime.png')\n",
        "pyplot.legend()\n",
        "pyplot.show()"
      ],
      "execution_count": null,
      "outputs": []
    },
    {
      "cell_type": "code",
      "metadata": {
        "id": "hhSAOyOGnXM1",
        "colab_type": "code",
        "colab": {}
      },
      "source": [
        "\n",
        "\n",
        "pyplot.figure(figsize=(12,7))\n",
        "pyplot.plot(history.history['loss'], label='train')\n",
        "pyplot.plot(history.history['val_loss'], label='test')\n",
        "pyplot.savefig('History loss.png')\n",
        "pyplot.legend()\n",
        "pyplot.show()"
      ],
      "execution_count": null,
      "outputs": []
    }
  ]
}